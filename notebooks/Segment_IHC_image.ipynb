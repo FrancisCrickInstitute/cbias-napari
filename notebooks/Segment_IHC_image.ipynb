{
 "cells": [
  {
   "cell_type": "code",
   "execution_count": 2,
   "id": "be8ca6a5-ca48-4861-9c8d-2a65e64f7f10",
   "metadata": {},
   "outputs": [
    {
     "data": {
      "text/plain": [
       "<Image layer 'Image' at 0x20a4d9d4d90>"
      ]
     },
     "execution_count": 2,
     "metadata": {},
     "output_type": "execute_result"
    }
   ],
   "source": [
    "from skimage import data\n",
    "import napari\n",
    "\n",
    "viewer=napari.Viewer()\n",
    "viewer.add_image(data.immunohistochemistry(), rgb=True, blending='additive')"
   ]
  },
  {
   "cell_type": "code",
   "execution_count": 3,
   "id": "b70c70bb-bc34-4da2-9a40-3150d150a69b",
   "metadata": {},
   "outputs": [],
   "source": [
    "from skimage.color import rgb2gray\n",
    "from skimage import filters"
   ]
  },
  {
   "cell_type": "code",
   "execution_count": 4,
   "id": "769b89ee-c00a-4445-ac03-d2c537d52f3c",
   "metadata": {},
   "outputs": [
    {
     "data": {
      "text/plain": [
       "<Image layer 'edge_sobel' at 0x20a4d49bfa0>"
      ]
     },
     "execution_count": 4,
     "metadata": {},
     "output_type": "execute_result"
    }
   ],
   "source": [
    "binary=rgb2gray(viewer.layers[0].data)>0.6\n",
    "edge_sobel = filters.sobel(binary)\n",
    "viewer.add_image(edge_sobel, blending='additive', colormap='yellow')"
   ]
  }
 ],
 "metadata": {
  "kernelspec": {
   "display_name": "Python 3 (ipykernel)",
   "language": "python",
   "name": "python3"
  },
  "language_info": {
   "codemirror_mode": {
    "name": "ipython",
    "version": 3
   },
   "file_extension": ".py",
   "mimetype": "text/x-python",
   "name": "python",
   "nbconvert_exporter": "python",
   "pygments_lexer": "ipython3",
   "version": "3.8.18"
  }
 },
 "nbformat": 4,
 "nbformat_minor": 5
}
