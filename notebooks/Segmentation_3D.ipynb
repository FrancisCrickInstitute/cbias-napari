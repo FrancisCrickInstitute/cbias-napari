{
 "cells": [
  {
   "cell_type": "code",
   "execution_count": 1,
   "id": "6b5a8931-3529-439c-bc82-a371187dc980",
   "metadata": {},
   "outputs": [],
   "source": [
    "from skimage import io, data\n",
    "\n",
    "#myImage=io.imread(\"Documents/Data/Confocal-Multiphoton/MyProject/myConfocalImage.tif\")\n",
    "myImage=data.cells3d()"
   ]
  },
  {
   "cell_type": "code",
   "execution_count": 2,
   "id": "b75de3fd-4776-4bb4-b7ba-39add2e273ac",
   "metadata": {},
   "outputs": [
    {
     "data": {
      "text/plain": [
       "(60, 2, 256, 256)"
      ]
     },
     "execution_count": 2,
     "metadata": {},
     "output_type": "execute_result"
    }
   ],
   "source": [
    "myImage.shape"
   ]
  },
  {
   "cell_type": "code",
   "execution_count": 3,
   "id": "42d4c74a-4fa3-4225-aad1-d5cf4ff2af7f",
   "metadata": {},
   "outputs": [
    {
     "data": {
      "text/plain": [
       "<Image layer 'Ch_1' at 0x24d5a148d00>"
      ]
     },
     "execution_count": 3,
     "metadata": {},
     "output_type": "execute_result"
    }
   ],
   "source": [
    "import napari\n",
    "viewer = napari.Viewer()\n",
    "viewer.add_image(myImage[:,1,:,:], rgb=False, name='Ch_1', opacity=0.8, rendering='mip', blending='additive', colormap='green')"
   ]
  },
  {
   "cell_type": "code",
   "execution_count": 4,
   "id": "582e9b35-20be-4cc7-a9c0-f0293daca16c",
   "metadata": {},
   "outputs": [
    {
     "data": {
      "text/plain": [
       "<Image layer 'threshold_10000' at 0x24d69da0ca0>"
      ]
     },
     "execution_count": 4,
     "metadata": {},
     "output_type": "execute_result"
    }
   ],
   "source": [
    "th_ch=10000\n",
    "myImage_ch=myImage[:,1,:,:]\n",
    "binary_ch=myImage_ch>th_ch\n",
    "viewer.add_image(binary_ch, rgb=False, name='threshold_'+str(th_ch), opacity=1.0, rendering='mip', blending='additive', colormap='gray')\n"
   ]
  },
  {
   "cell_type": "code",
   "execution_count": 5,
   "id": "fbb7d267-67cb-4cbb-aa87-1391d3315439",
   "metadata": {},
   "outputs": [
    {
     "data": {
      "text/plain": [
       "<Image layer 'Labels' at 0x24d6c2fbee0>"
      ]
     },
     "execution_count": 5,
     "metadata": {},
     "output_type": "execute_result"
    }
   ],
   "source": [
    "from scipy import ndimage as ndi\n",
    "from skimage.feature import peak_local_max\n",
    "from skimage.segmentation import watershed\n",
    "import numpy as np\n",
    "\n",
    "#Distance map\n",
    "distance = ndi.distance_transform_edt(myImage_ch)\n",
    "coords = peak_local_max(distance, footprint=np.ones((3, 3, 3)), labels=binary_ch, min_distance=5)\n",
    "mask = np.zeros(distance.shape, dtype=bool)\n",
    "mask[tuple(coords.T)] = True\n",
    "markers, _ = ndi.label(mask)   \n",
    "#Watershed\n",
    "labels = watershed(-distance, markers, mask=binary_ch)\n",
    "viewer.add_image(labels, rgb=False, name='Labels', opacity=0.6, rendering='mip', blending='additive', colormap='inferno')"
   ]
  },
  {
   "cell_type": "code",
   "execution_count": 6,
   "id": "aa053aec-239d-43e2-baaa-286b2e179d66",
   "metadata": {},
   "outputs": [
    {
     "data": {
      "text/plain": [
       "<Image layer 'GB' at 0x24d6c3e9190>"
      ]
     },
     "execution_count": 6,
     "metadata": {},
     "output_type": "execute_result"
    }
   ],
   "source": [
    "### Improving the precision in the labelling\n",
    "from skimage import filters\n",
    "myImage_ch_gf=filters.gaussian(myImage_ch, sigma=1)\n",
    "viewer.add_image(myImage_ch_gf, rgb=False, name='GB', opacity=0.6, rendering='mip', blending='additive', colormap='gray')"
   ]
  },
  {
   "cell_type": "code",
   "execution_count": 7,
   "id": "b87e281e-79cb-42fd-9646-04a85555d120",
   "metadata": {},
   "outputs": [
    {
     "data": {
      "text/plain": [
       "<Image layer 'Labels [1]' at 0x24d6c3635e0>"
      ]
     },
     "execution_count": 7,
     "metadata": {},
     "output_type": "execute_result"
    }
   ],
   "source": [
    "from skimage import morphology\n",
    "binary_ch=myImage_ch_gf>0.1\n",
    "binary_ch=morphology.remove_small_objects(binary_ch, 7, connectivity=2)\n",
    "#Distance map\n",
    "distance = ndi.distance_transform_edt(myImage_ch)\n",
    "coords = peak_local_max(distance, footprint=np.ones((20, 20, 10)), labels=binary_ch, min_distance=20)\n",
    "mask = np.zeros(distance.shape, dtype=bool)\n",
    "mask[tuple(coords.T)] = True\n",
    "markers, _ = ndi.label(mask)   \n",
    "#Watershed\n",
    "labels = watershed(-distance, markers, mask=binary_ch)\n",
    "viewer.add_image(labels, rgb=False, name='Labels', opacity=0.6, rendering='mip', blending='additive', colormap='inferno')"
   ]
  },
  {
   "cell_type": "code",
   "execution_count": 8,
   "id": "b21ce356-bcd0-4059-b526-0ff233aa2309",
   "metadata": {},
   "outputs": [
    {
     "data": {
      "text/plain": [
       "<Points layer 'Maxima' at 0x24d6e4200a0>"
      ]
     },
     "execution_count": 8,
     "metadata": {},
     "output_type": "execute_result"
    }
   ],
   "source": [
    "points = np.array(coords)\n",
    "viewer.add_points(points, name='Maxima', size=3)"
   ]
  },
  {
   "cell_type": "code",
   "execution_count": 10,
   "id": "d6e4c572-bc59-4613-a8c5-21fb24bf793d",
   "metadata": {},
   "outputs": [
    {
     "name": "stderr",
     "output_type": "stream",
     "text": [
      "C:\\Users\\dantuor\\AppData\\Local\\Temp\\ipykernel_5092\\1166991390.py:11: UserWarning: Documents/Data/Confocal-Multiphoton/MyProject/Labels.tif is a low contrast image\n",
      "  io.imsave('Documents/Data/Confocal-Multiphoton/MyProject/Labels.tif', labels)\n"
     ]
    }
   ],
   "source": [
    "from skimage import measure\n",
    "import pandas as pd\n",
    "\n",
    "prop_Ch1=measure.regionprops_table(labels, myImage[:,1,:,:],properties=['area','label','equivalent_diameter','mean_intensity','centroid','weighted_centroid'])\n",
    "properties_Ch1={'Area': prop_Ch1['area'], 'Label': prop_Ch1['label'], 'Equivalent_diameter': prop_Ch1['equivalent_diameter'],\n",
    "          'Centroid_X': prop_Ch1['centroid-0'], 'Centroid_Y': prop_Ch1['centroid-1'], 'Centroid_Z': prop_Ch1['centroid-2'],\n",
    "          'Mean_intensity' : prop_Ch1['mean_intensity'],          \n",
    "         }\n",
    "properties_df=pd.DataFrame(properties_Ch1)\n",
    "properties_df.to_csv('Documents/Data/Confocal-Multiphoton/MyProject/measured_properties.csv')\n",
    "io.imsave('Documents/Data/Confocal-Multiphoton/MyProject/Labels.tif', labels)\n"
   ]
  },
  {
   "cell_type": "code",
   "execution_count": null,
   "id": "d5a23c52-728a-4006-8e81-8177d09c255e",
   "metadata": {},
   "outputs": [],
   "source": []
  }
 ],
 "metadata": {
  "kernelspec": {
   "display_name": "Python 3 (ipykernel)",
   "language": "python",
   "name": "python3"
  },
  "language_info": {
   "codemirror_mode": {
    "name": "ipython",
    "version": 3
   },
   "file_extension": ".py",
   "mimetype": "text/x-python",
   "name": "python",
   "nbconvert_exporter": "python",
   "pygments_lexer": "ipython3",
   "version": "3.8.18"
  }
 },
 "nbformat": 4,
 "nbformat_minor": 5
}
